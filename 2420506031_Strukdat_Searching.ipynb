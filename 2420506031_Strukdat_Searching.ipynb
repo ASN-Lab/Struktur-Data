{
  "nbformat": 4,
  "nbformat_minor": 0,
  "metadata": {
    "colab": {
      "provenance": [],
      "authorship_tag": "ABX9TyOR8yANz1U8eyANEHaPzGkD",
      "include_colab_link": true
    },
    "kernelspec": {
      "name": "python3",
      "display_name": "Python 3"
    },
    "language_info": {
      "name": "python"
    }
  },
  "cells": [
    {
      "cell_type": "markdown",
      "metadata": {
        "id": "view-in-github",
        "colab_type": "text"
      },
      "source": [
        "<a href=\"https://colab.research.google.com/github/ASN-Lab/Struktur-Data/blob/main/2420506031_Strukdat_Searching.ipynb\" target=\"_parent\"><img src=\"https://colab.research.google.com/assets/colab-badge.svg\" alt=\"Open In Colab\"/></a>"
      ]
    },
    {
      "cell_type": "markdown",
      "source": [
        "# Playground\n",
        "\n",
        "\n",
        "1.   Linear Search\n",
        "\n"
      ],
      "metadata": {
        "id": "I2WUU5PgtmJR"
      }
    },
    {
      "cell_type": "code",
      "execution_count": 19,
      "metadata": {
        "colab": {
          "base_uri": "https://localhost:8080/"
        },
        "id": "I2hG1uFarXEA",
        "outputId": "676a40a7-27f3-4e12-d116-660519e3c65d"
      },
      "outputs": [
        {
          "output_type": "stream",
          "name": "stdout",
          "text": [
            "Masukkan 3 digit terakhir NPM: 031\n",
            "Elemen ditemukan pada indeks 4\n"
          ]
        }
      ],
      "source": [
        "def linear_search(arr, target):\n",
        "  for i in range(len(arr)):\n",
        "    if arr[i] == target:\n",
        "      return i\n",
        "  return -1\n",
        "\n",
        "arr = [24, 12, 20, 2, 31, 59, 60, 59]\n",
        "target = int(input(\"Masukkan 3 digit terakhir NPM: \"))\n",
        "\n",
        "result = linear_search(arr, target)\n",
        "\n",
        "if result != -1:\n",
        "  print(f\"Elemen ditemukan pada indeks {result}\")\n",
        "else:\n",
        "  print(\"Elemen tidak ditemukan\")"
      ]
    },
    {
      "cell_type": "markdown",
      "source": [
        "2. Binary Search"
      ],
      "metadata": {
        "id": "YqBkTfyYvVtr"
      }
    },
    {
      "cell_type": "code",
      "source": [
        "def binary_search(arr, target):\n",
        "    low = 0\n",
        "    high = len(arr) - 1\n",
        "\n",
        "    while low <= high:\n",
        "        mid = (low + high) // 2\n",
        "        if arr[mid] == target:\n",
        "            return mid\n",
        "        elif arr[mid] < target:\n",
        "            low = mid + 1\n",
        "        else:\n",
        "            high = mid - 1\n",
        "\n",
        "    return -1\n",
        "\n",
        "arr = [\"0101\", \"1002\", \"1210\", \"1911\", \"2012\", \"2912\"]\n",
        "target = input(\"Masukkan tanggal lahir(DDMM): \")\n",
        "\n",
        "result = binary_search(arr, target)\n",
        "\n",
        "if result != -1:\n",
        "    print(f\"Elemen ditemukan pada indeks {result}\")\n",
        "else:\n",
        "    print(\"Elemen tidak ditemukan\")"
      ],
      "metadata": {
        "colab": {
          "base_uri": "https://localhost:8080/"
        },
        "id": "Bzs7YKCBvZSA",
        "outputId": "dea54ae4-5eb0-4270-b776-6019766a5280"
      },
      "execution_count": 24,
      "outputs": [
        {
          "output_type": "stream",
          "name": "stdout",
          "text": [
            "Masukkan tanggal lahir(DDMM): 0101\n",
            "Elemen ditemukan pada indeks 0\n"
          ]
        }
      ]
    },
    {
      "cell_type": "markdown",
      "source": [
        "3. Jump Search"
      ],
      "metadata": {
        "id": "KtU0RLrUySLq"
      }
    },
    {
      "cell_type": "code",
      "source": [
        "import math\n",
        "\n",
        "def jump_search(arr, target):\n",
        "  n = len(arr)\n",
        "  step = int(math.sqrt(n))\n",
        "  prev = 0\n",
        "\n",
        "  target_initial = target[0].lower()\n",
        "\n",
        "  while arr[min(step, n) - 1][0].lower() < target_initial:\n",
        "    prev = step\n",
        "    step += int(math.sqrt(n))\n",
        "    if prev >= n:\n",
        "      return -1\n",
        "\n",
        "  for i in range(prev, min(step, n)):\n",
        "    if arr[i][0].lower() == target_initial:\n",
        "      return i\n",
        "  return -1\n",
        "\n",
        "# Daftar nama dalam urutan alfabet\n",
        "arr = [\"Arif\", \"Bagus\", \"Diyon\", \"Fahri\", \"Gita\", \"Inas\", \"Rina\", \"Tegar\"]\n",
        "target = input(\"Masukkan inisial nama Anda: \")\n",
        "\n",
        "result = jump_search(arr, target)\n",
        "\n",
        "if result != -1:\n",
        "  print(f\"Elemen ditemukan pada indeks {result}\")\n",
        "else:\n",
        "  print(\"Elemen tidak ditemukan\")"
      ],
      "metadata": {
        "colab": {
          "base_uri": "https://localhost:8080/"
        },
        "id": "NNTk3A6EyUwZ",
        "outputId": "9f424c8a-7be7-4856-c426-01ad36dad37a"
      },
      "execution_count": 6,
      "outputs": [
        {
          "output_type": "stream",
          "name": "stdout",
          "text": [
            "Masukkan inisial nama Anda: g\n",
            "Elemen ditemukan pada indeks 4\n"
          ]
        }
      ]
    },
    {
      "cell_type": "markdown",
      "source": [
        "# Latihan/Tugas\n",
        "Membandingkan efisiensi Linear Search, Binary Search, dan\n",
        "Jump Search dengan menghitung jumlah perbandingan yang dilakukan saat mencari angka\n",
        "dalam daftar 100 elemen.\n"
      ],
      "metadata": {
        "id": "4_0FC479iV84"
      }
    },
    {
      "cell_type": "markdown",
      "source": [
        "## Membuat Angka Acak"
      ],
      "metadata": {
        "id": "99R_3JGLkSU1"
      }
    },
    {
      "cell_type": "code",
      "source": [
        "import random\n",
        "\n",
        "# Membuat daftar 100 angka acak dalam rentang 1-1000\n",
        "data = sorted(random.sample(range(1, 1001), 100))\n",
        "print(\"Daftar Angka (Terurut):\", data)"
      ],
      "metadata": {
        "colab": {
          "base_uri": "https://localhost:8080/"
        },
        "id": "GB9YLrbribLu",
        "outputId": "5dda7e69-7570-4f29-9449-3b190c1fc566"
      },
      "execution_count": 18,
      "outputs": [
        {
          "output_type": "stream",
          "name": "stdout",
          "text": [
            "Daftar Angka (Terurut): [12, 21, 31, 38, 45, 72, 82, 83, 88, 95, 96, 125, 129, 130, 156, 189, 199, 226, 232, 236, 274, 275, 283, 284, 294, 312, 329, 352, 363, 378, 379, 404, 406, 409, 412, 417, 435, 437, 444, 446, 451, 465, 468, 480, 500, 513, 521, 522, 528, 532, 534, 546, 548, 561, 570, 578, 592, 609, 611, 612, 616, 617, 647, 657, 679, 687, 696, 699, 703, 723, 729, 742, 749, 755, 763, 770, 774, 780, 804, 806, 814, 818, 831, 832, 839, 855, 858, 869, 881, 885, 896, 918, 929, 934, 935, 940, 946, 966, 990, 994]\n"
          ]
        }
      ]
    },
    {
      "cell_type": "markdown",
      "source": [
        "## Implementasi Algoritma Pencarian"
      ],
      "metadata": {
        "id": "d1l8w4jNkY3Y"
      }
    },
    {
      "cell_type": "code",
      "source": [
        "# Linear Search\n",
        "def linear_search(arr, target):\n",
        "    comparisons = 0\n",
        "    for index, value in enumerate(arr):\n",
        "        comparisons += 1\n",
        "        if value == target:\n",
        "            return index, comparisons\n",
        "    return -1, comparisons"
      ],
      "metadata": {
        "id": "HwQj2w1mke5Y"
      },
      "execution_count": 19,
      "outputs": []
    },
    {
      "cell_type": "code",
      "source": [
        "# Binary Search\n",
        "def binary_search(arr, target):\n",
        "    left, right = 0, len(arr) - 1\n",
        "    comparisons = 0\n",
        "    while left <= right:\n",
        "        mid = (left + right) // 2\n",
        "        comparisons += 1\n",
        "        if arr[mid] == target:\n",
        "            return mid, comparisons\n",
        "        elif arr[mid] < target:\n",
        "            left = mid + 1\n",
        "        else:\n",
        "            right = mid - 1\n",
        "    return -1, comparisons"
      ],
      "metadata": {
        "id": "DobnlhaEktA_"
      },
      "execution_count": 20,
      "outputs": []
    },
    {
      "cell_type": "code",
      "source": [
        "# Jump Search\n",
        "import math\n",
        "\n",
        "def jump_search(arr, target):\n",
        "    n = len(arr)\n",
        "    step = int(math.sqrt(n))\n",
        "    prev = 0\n",
        "    comparisons = 0\n",
        "\n",
        "    while arr[min(step, n) - 1] < target:\n",
        "        comparisons += 1\n",
        "        prev = step\n",
        "        step += int(math.sqrt(n))\n",
        "        if prev >= n:\n",
        "            return -1, comparisons\n",
        "\n",
        "    while arr[prev] < target:\n",
        "        comparisons += 1\n",
        "        prev += 1\n",
        "        if prev == min(step, n):\n",
        "            return -1, comparisons\n",
        "\n",
        "    comparisons += 1  # for the last comparison\n",
        "    if arr[prev] == target:\n",
        "        return prev, comparisons\n",
        "    return -1, comparisons"
      ],
      "metadata": {
        "id": "91gNbxgukxmy"
      },
      "execution_count": 21,
      "outputs": []
    },
    {
      "cell_type": "markdown",
      "source": [
        "## Menjalankan ALgoritma Pemrograman"
      ],
      "metadata": {
        "id": "jxE8z9dmk5V1"
      }
    },
    {
      "cell_type": "code",
      "source": [
        "# Menentukan angka target (elemen tengah)\n",
        "target = data[len(data) // 2]\n",
        "print(\"Target yang dicari:\", target)\n",
        "\n",
        "# Melakukan pencarian dengan ketiga algoritma\n",
        "linear_index, linear_comparisons = linear_search(data, target)\n",
        "binary_index, binary_comparisons = binary_search(data, target)\n",
        "jump_index, jump_comparisons = jump_search(data, target)\n",
        "\n",
        "# Menampilkan hasil\n",
        "print(f\"Linear Search: Indeks = {linear_index}, Perbandingan = {linear_comparisons}\")\n",
        "print(f\"Binary Search: Indeks = {binary_index}, Perbandingan = {binary_comparisons}\")\n",
        "print(f\"Jump Search: Indeks   = {jump_index}, Perbandingan = {jump_comparisons}\")"
      ],
      "metadata": {
        "colab": {
          "base_uri": "https://localhost:8080/"
        },
        "id": "aw3cVHVyk9Fw",
        "outputId": "96e04e74-883b-49b1-856e-8cb0482185b4"
      },
      "execution_count": 24,
      "outputs": [
        {
          "output_type": "stream",
          "name": "stdout",
          "text": [
            "Target yang dicari: 534\n",
            "Linear Search: Indeks = 50, Perbandingan = 51\n",
            "Binary Search: Indeks = 50, Perbandingan = 6\n",
            "Jump Search: Indeks   = 50, Perbandingan = 6\n"
          ]
        }
      ]
    }
  ]
}