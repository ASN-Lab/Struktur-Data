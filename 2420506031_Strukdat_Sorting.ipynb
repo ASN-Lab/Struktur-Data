{
  "nbformat": 4,
  "nbformat_minor": 0,
  "metadata": {
    "colab": {
      "provenance": [],
      "authorship_tag": "ABX9TyPOhufJTvGOGzZBVtPnmXZx",
      "include_colab_link": true
    },
    "kernelspec": {
      "name": "python3",
      "display_name": "Python 3"
    },
    "language_info": {
      "name": "python"
    }
  },
  "cells": [
    {
      "cell_type": "markdown",
      "metadata": {
        "id": "view-in-github",
        "colab_type": "text"
      },
      "source": [
        "<a href=\"https://colab.research.google.com/github/ASN-Lab/Struktur-Data/blob/main/2420506031_Strukdat_Sorting.ipynb\" target=\"_parent\"><img src=\"https://colab.research.google.com/assets/colab-badge.svg\" alt=\"Open In Colab\"/></a>"
      ]
    },
    {
      "cell_type": "markdown",
      "source": [
        "# Playground"
      ],
      "metadata": {
        "id": "Uo3owboMt40x"
      }
    },
    {
      "cell_type": "markdown",
      "source": [
        "### Bubble Sort"
      ],
      "metadata": {
        "id": "SwT9nYKAxRbI"
      }
    },
    {
      "cell_type": "code",
      "execution_count": null,
      "metadata": {
        "colab": {
          "base_uri": "https://localhost:8080/"
        },
        "id": "OyNSAgCWr3Pq",
        "outputId": "abff0302-665a-4877-e7f5-e2b7e59e2590"
      },
      "outputs": [
        {
          "output_type": "stream",
          "name": "stdout",
          "text": [
            "data sebelum sorting: [64, 34, 25, 12, 22, 11, 90]\n",
            "data setelah sorting: [11, 12, 22, 25, 34, 64, 90]\n"
          ]
        }
      ],
      "source": [
        "def bubble_sort(arr):\n",
        "  n = len(arr)\n",
        "  for i in range(n-1):\n",
        "    for j in range(n-i-1):\n",
        "      if arr[j] > arr[j+1]:\n",
        "        arr[j], arr[j+1] = arr[j+1], arr[j]\n",
        "  return arr\n",
        "\n",
        "# implementasi\n",
        "data = [64, 34, 25, 12, 22, 11, 90]\n",
        "sorted_data = bubble_sort(data.copy())\n",
        "print(\"data sebelum sorting:\", data)\n",
        "print(\"data setelah sorting:\", sorted_data)"
      ]
    },
    {
      "cell_type": "markdown",
      "source": [
        "### Selection Sort"
      ],
      "metadata": {
        "id": "BrV8kTL-zEJJ"
      }
    },
    {
      "cell_type": "code",
      "source": [
        "def selection_sort(arr):\n",
        "  n = len(arr)\n",
        "  for i in range(n-1):\n",
        "    min_index = i\n",
        "    for j in range(i+1, n):\n",
        "      if arr[j] < arr[min_index]:\n",
        "        min_index = j\n",
        "    arr[i], arr[min_index] = arr[min_index], arr[i]\n",
        "  return arr\n",
        "\n",
        "# implementasi\n",
        "data = [64, 25, 12, 22, 11]\n",
        "sorted_data = selection_sort(data.copy())\n",
        "print(\"data sebelum sorting:\", data)\n",
        "print(\"data setelah sorting:\", sorted_data)"
      ],
      "metadata": {
        "colab": {
          "base_uri": "https://localhost:8080/"
        },
        "id": "oPRMr1eMzIRU",
        "outputId": "a564e31b-521b-4a8f-83f6-8dd8ad8930f8"
      },
      "execution_count": null,
      "outputs": [
        {
          "output_type": "stream",
          "name": "stdout",
          "text": [
            "data sebelum sorting: [64, 25, 12, 22, 11]\n",
            "data setelah sorting: [11, 12, 22, 25, 64]\n"
          ]
        }
      ]
    },
    {
      "cell_type": "markdown",
      "source": [
        "### Insertion Sort"
      ],
      "metadata": {
        "id": "prgpEyDY0PIU"
      }
    },
    {
      "cell_type": "code",
      "source": [
        "def insertiona_sort(arr):\n",
        "  n = len(arr)\n",
        "  for i in range(1, n):\n",
        "    key = arr[i]\n",
        "    j = i-1\n",
        "    while j >= 0 and arr[j] > key:\n",
        "      arr[j+1] = arr[j]\n",
        "      j -= 1\n",
        "    arr[j+1] = key\n",
        "  return arr\n",
        "\n",
        "# implementasi\n",
        "data = [12, 11, 13, 5, 6]\n",
        "sorted_data = insertiona_sort(data.copy())\n",
        "print(\"data sebelum sorting:\", data)\n",
        "print(\"data setelah sorting:\", sorted_data)"
      ],
      "metadata": {
        "colab": {
          "base_uri": "https://localhost:8080/"
        },
        "id": "ROg-SieQ0UHK",
        "outputId": "6fedd689-e5f2-4483-f39f-58d879a8ebda"
      },
      "execution_count": null,
      "outputs": [
        {
          "output_type": "stream",
          "name": "stdout",
          "text": [
            "data sebelum sorting: [12, 11, 13, 5, 6]\n",
            "data setelah sorting: [5, 6, 11, 12, 13]\n"
          ]
        }
      ]
    },
    {
      "cell_type": "markdown",
      "source": [
        "### Merge Sort"
      ],
      "metadata": {
        "id": "xNCIH3eV0-oM"
      }
    },
    {
      "cell_type": "code",
      "source": [
        "def merge_sort(arr):\n",
        "    if len(arr) > 1:\n",
        "        mid = len(arr) // 2\n",
        "        left_half = arr[:mid]\n",
        "        right_half = arr[mid:]\n",
        "\n",
        "        merge_sort(left_half)\n",
        "        merge_sort(right_half)\n",
        "\n",
        "        i = j = k = 0\n",
        "\n",
        "        while i < len(left_half) and j < len(right_half):\n",
        "            if left_half[i] < right_half[j]:\n",
        "                arr[k] = left_half[i]\n",
        "                i += 1\n",
        "            else:\n",
        "                arr[k] = right_half[j]\n",
        "                j += 1\n",
        "            k += 1  # Pindahkan ini keluar dari blok else\n",
        "\n",
        "        while i < len(left_half):\n",
        "            arr[k] = left_half[i]\n",
        "            i += 1\n",
        "            k += 1\n",
        "\n",
        "        while j < len(right_half):\n",
        "            arr[k] = right_half[j]\n",
        "            j += 1\n",
        "            k += 1\n",
        "\n",
        "    return arr  # Mengembalikan arr setelah pengurutan\n",
        "\n",
        "# Implementasi\n",
        "data = [92, 11, 13, 5, 68, 7, 1, 9, 16]\n",
        "sorted_data = merge_sort(data.copy())\n",
        "print(\"data sebelum sorting:\", data)\n",
        "print(\"data setelah sorting:\", sorted_data)"
      ],
      "metadata": {
        "colab": {
          "base_uri": "https://localhost:8080/"
        },
        "id": "REFgg06o1Ccz",
        "outputId": "362535c1-081b-4101-d756-2448dd398592"
      },
      "execution_count": null,
      "outputs": [
        {
          "output_type": "stream",
          "name": "stdout",
          "text": [
            "data sebelum sorting: [92, 11, 13, 5, 68, 7, 1, 9, 16]\n",
            "data setelah sorting: [1, 5, 7, 9, 11, 13, 16, 68, 92]\n"
          ]
        }
      ]
    },
    {
      "cell_type": "markdown",
      "source": [
        "### Quick Short"
      ],
      "metadata": {
        "id": "H7ZFrS106m1z"
      }
    },
    {
      "cell_type": "code",
      "source": [
        "def quick_sort(arr):\n",
        "  if len(arr) <= 1:\n",
        "    return arr\n",
        "\n",
        "  pivot = arr[len(arr) // 2]\n",
        "  left = [x for x in arr if x < pivot]\n",
        "  middle = [x for x in arr if x == pivot]\n",
        "  right = [x for x in arr if x > pivot]\n",
        "\n",
        "  return quick_sort(left) + middle + quick_sort(right)\n",
        "\n",
        "# implementasi\n",
        "data = [92, 11, 13, 5, 68, 7, 1, 9, 16]\n",
        "sorted_data = quick_sort(data.copy())\n",
        "print(\"data sebelum sorting:\", data)\n",
        "print(\"data setelah sorting:\", sorted_data)"
      ],
      "metadata": {
        "colab": {
          "base_uri": "https://localhost:8080/"
        },
        "id": "Y_VBHC8M6q8M",
        "outputId": "4f410747-ea54-43d3-b0c8-4cd8ba6cedfe"
      },
      "execution_count": null,
      "outputs": [
        {
          "output_type": "stream",
          "name": "stdout",
          "text": [
            "data sebelum sorting: [92, 11, 13, 5, 68, 7, 1, 9, 16]\n",
            "data setelah sorting: [1, 5, 7, 9, 11, 13, 16, 68, 92]\n"
          ]
        }
      ]
    },
    {
      "cell_type": "markdown",
      "source": [
        "# Latihan/Tugas\n",
        "\n",
        "### Optimasi Pencarian Produk di Marketplace\n",
        "\n",
        "Program yang menampilkan daftar produk menggunakan algoritma sorting(Quick Short), untuk mengurutkan produk berdasarkan harga terendah hingga tertinggi atau berdasarkan rating."
      ],
      "metadata": {
        "id": "vu5WIs5w7Hkv"
      }
    },
    {
      "cell_type": "code",
      "source": [
        "import random\n",
        "\n",
        "# Contoh data produk\n",
        "produk = [\n",
        "    {\"nama\": \"Produk A\", \"harga\": random.randint(5000, 50000), \"rating\": round(random.uniform(1.0, 5.0), 1)},\n",
        "    {\"nama\": \"Produk B\", \"harga\": random.randint(5000, 50000), \"rating\": round(random.uniform(1.0, 5.0), 1)},\n",
        "    {\"nama\": \"Produk C\", \"harga\": random.randint(5000, 50000), \"rating\": round(random.uniform(1.0, 5.0), 1)},\n",
        "    {\"nama\": \"Produk D\", \"harga\": random.randint(5000, 50000), \"rating\": round(random.uniform(1.0, 5.0), 1)},\n",
        "    {\"nama\": \"Produk E\", \"harga\": random.randint(5000, 50000), \"rating\": round(random.uniform(1.0, 5.0), 1)},\n",
        "]\n",
        "\n",
        "# Menampilkan produk yang telah diacak\n",
        "print(\"Produk yang ada:\")\n",
        "for p in produk:\n",
        "    print(f\"Nama: {p['nama']}, Harga: {p['harga']}, Rating: {p['rating']}\")\n",
        "\n",
        "# Quick Sort\n",
        "def quick_sort(data, key):\n",
        "    if len(data) <= 1:\n",
        "        return data\n",
        "    pivot = data[len(data) // 2][key]\n",
        "    left = [x for x in data if x[key] < pivot]\n",
        "    middle = [x for x in data if x[key] == pivot]\n",
        "    right = [x for x in data if x[key] > pivot]\n",
        "    return quick_sort(left, key) + middle + quick_sort(right, key)\n",
        "\n",
        "# Menampilkan produk yang sudah diurutkan\n",
        "def print_produk(data):\n",
        "    for p in data:\n",
        "        print(f\"Nama: {p['nama']} | Harga: {p['harga']} | Rating: {p['rating']}\")\n",
        "\n",
        "# Fungsi untuk mengurutkan berdasarkan rating dari terendah ke tertinggi\n",
        "def sort_by_rating_ascending(data):\n",
        "    return sorted(data, key=lambda x: x['rating'])\n",
        "\n",
        "# Mengurutkan berdasarkan harga\n",
        "print(\"\\nProduk diurutkan berdasarkan harga (Quick Sort):\")\n",
        "quick_sorted_produk = quick_sort(produk, 'harga')\n",
        "print_produk(quick_sorted_produk)\n",
        "\n",
        "# Mengurutkan berdasarkan rating\n",
        "print(\"\\nProduk diurutkan berdasarkan rating (Quick Sort):\")\n",
        "quick_sorted_produk_rating = quick_sort(produk, 'rating')\n",
        "print_produk(quick_sorted_produk_rating)"
      ],
      "metadata": {
        "colab": {
          "base_uri": "https://localhost:8080/"
        },
        "id": "CmVErxE57l8u",
        "outputId": "573fc5c0-1ba8-4d22-ddbd-0400a9142aa7"
      },
      "execution_count": null,
      "outputs": [
        {
          "output_type": "stream",
          "name": "stdout",
          "text": [
            "Produk yang ada:\n",
            "Nama: Produk A, Harga: 6964, Rating: 2.7\n",
            "Nama: Produk B, Harga: 27772, Rating: 4.9\n",
            "Nama: Produk C, Harga: 31169, Rating: 1.1\n",
            "Nama: Produk D, Harga: 30741, Rating: 1.8\n",
            "Nama: Produk E, Harga: 8003, Rating: 1.9\n",
            "\n",
            "Produk diurutkan berdasarkan harga (Quick Sort):\n",
            "Nama: Produk A | Harga: 6964 | Rating: 2.7\n",
            "Nama: Produk E | Harga: 8003 | Rating: 1.9\n",
            "Nama: Produk B | Harga: 27772 | Rating: 4.9\n",
            "Nama: Produk D | Harga: 30741 | Rating: 1.8\n",
            "Nama: Produk C | Harga: 31169 | Rating: 1.1\n",
            "\n",
            "Produk diurutkan berdasarkan rating (Quick Sort):\n",
            "Nama: Produk C | Harga: 31169 | Rating: 1.1\n",
            "Nama: Produk D | Harga: 30741 | Rating: 1.8\n",
            "Nama: Produk E | Harga: 8003 | Rating: 1.9\n",
            "Nama: Produk A | Harga: 6964 | Rating: 2.7\n",
            "Nama: Produk B | Harga: 27772 | Rating: 4.9\n"
          ]
        }
      ]
    }
  ]
}