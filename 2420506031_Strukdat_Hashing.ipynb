{
  "nbformat": 4,
  "nbformat_minor": 0,
  "metadata": {
    "colab": {
      "provenance": [],
      "authorship_tag": "ABX9TyO4lmrM5f0MRFG8rH7+F5nf",
      "include_colab_link": true
    },
    "kernelspec": {
      "name": "python3",
      "display_name": "Python 3"
    },
    "language_info": {
      "name": "python"
    }
  },
  "cells": [
    {
      "cell_type": "markdown",
      "metadata": {
        "id": "view-in-github",
        "colab_type": "text"
      },
      "source": [
        "<a href=\"https://colab.research.google.com/github/ASN-Lab/Struktur-Data/blob/main/2420506031_Strukdat_Hashing.ipynb\" target=\"_parent\"><img src=\"https://colab.research.google.com/assets/colab-badge.svg\" alt=\"Open In Colab\"/></a>"
      ]
    },
    {
      "cell_type": "markdown",
      "source": [
        "# Playground"
      ],
      "metadata": {
        "id": "4LeB2Et5EOr5"
      }
    },
    {
      "cell_type": "markdown",
      "source": [
        "### Hashing sederhana"
      ],
      "metadata": {
        "id": "k0nO0LnhNX7i"
      }
    },
    {
      "cell_type": "code",
      "execution_count": 8,
      "metadata": {
        "colab": {
          "base_uri": "https://localhost:8080/"
        },
        "id": "JmUYOPTGED7P",
        "outputId": "de9b8315-5afb-42b5-ab02-df606320637d"
      },
      "outputs": [
        {
          "output_type": "stream",
          "name": "stdout",
          "text": [
            "nilai untuk 'apel'   adalah: 100\n",
            "nilai untuk 'pisang' adalah: 200\n"
          ]
        }
      ],
      "source": [
        "# Simpe Hashing\n",
        "class SimpleHashTable:\n",
        "    def __init__(self, size):\n",
        "        self.size = size\n",
        "        self.table = [None] * size\n",
        "\n",
        "    def hash_function(self, key):\n",
        "      return hash(key) % self.size\n",
        "\n",
        "    def insert(self, key, value):\n",
        "        index = self.hash_function(key)\n",
        "        self.table[index] = value\n",
        "\n",
        "    def search(self, key):\n",
        "      index = self.hash_function(key)\n",
        "      return self.table[index]\n",
        "\n",
        "# Penggunaan\n",
        "ht = SimpleHashTable(10)\n",
        "ht.insert(\"apel\", 100)\n",
        "ht.insert(\"pisang\", 200)\n",
        "\n",
        "print(\"nilai untuk 'apel'   adalah:\", ht.search(\"apel\"))\n",
        "print(\"nilai untuk 'pisang' adalah:\", ht.search(\"pisang\"))"
      ]
    },
    {
      "cell_type": "markdown",
      "source": [
        "### Penanganan collision menggunakan linear probing"
      ],
      "metadata": {
        "id": "p2qEE1OtNfk0"
      }
    },
    {
      "cell_type": "code",
      "source": [
        "# Linear probing untuk collision\n",
        "class LinearProbingHashTable:\n",
        "  def __init__(self, size):\n",
        "    self.size = size\n",
        "    self.table = [None] * size\n",
        "\n",
        "  def hash_function(self, key):\n",
        "    return hash(key) % self.size\n",
        "\n",
        "  def insert(self, key, value):\n",
        "    index = self.hash_function(key)\n",
        "    original_index = index\n",
        "\n",
        "    while self.table[index] is not None:\n",
        "      if self.table[index][0] == key:\n",
        "        break\n",
        "      index = (index + 1) % self.size\n",
        "      if index == original_index:\n",
        "        raise ValueError(\"Hash tabel full\")\n",
        "\n",
        "    self.table[index] = (key, value)\n",
        "\n",
        "  def search(self, key):\n",
        "    index = self.hash_function(key)\n",
        "    original_index = index\n",
        "\n",
        "    while self.table[index] is not None:\n",
        "      if self.table[index][0] == key:\n",
        "        return self.table[index][1]\n",
        "      index = (index + 1) % self.size\n",
        "      if index == original_index:\n",
        "        break\n",
        "      return None\n",
        "\n",
        "# Penggunaan\n",
        "ht = LinearProbingHashTable(5)\n",
        "ht.insert(\"apel\", 100)\n",
        "ht.insert(\"pisang\", 200)\n",
        "ht.insert(\"melon\", 300)\n",
        "\n",
        "print(\"nilai untuk 'apel' adalah:\", ht.search(\"apel\"))\n",
        "print(\"nilai untuk 'pisang' adalah:\", ht.search(\"pisang\"))\n",
        "print(\"nilai untuk 'melon' adalah:\", ht.search(\"melon\"))"
      ],
      "metadata": {
        "colab": {
          "base_uri": "https://localhost:8080/"
        },
        "id": "SFLZci0IHu2_",
        "outputId": "4fe0be99-3180-4954-8733-aefa98c0aecf"
      },
      "execution_count": 5,
      "outputs": [
        {
          "output_type": "stream",
          "name": "stdout",
          "text": [
            "nilai untuk 'apel' adalah: 100\n",
            "nilai untuk 'pisang' adalah: 200\n",
            "nilai untuk 'melon' adalah: None\n"
          ]
        }
      ]
    },
    {
      "cell_type": "markdown",
      "source": [
        "### Penanganan collision menggunakan chaining"
      ],
      "metadata": {
        "id": "-euXoLrcNoWK"
      }
    },
    {
      "cell_type": "code",
      "source": [
        "# Chaining untuk collision\n",
        "class ChainingHashTable:\n",
        "  def __init__(self, size):\n",
        "    self.size = size\n",
        "    self.table = [[] for _ in range(size)]\n",
        "\n",
        "  def hash_function(self, key):\n",
        "    return hash(key) % self.size\n",
        "\n",
        "  def insert(self, key, value):\n",
        "    index = self.hash_function(key)\n",
        "    for i, (k, v) in enumerate(self.table[index]):\n",
        "      if k == key:\n",
        "        self.table[index][i] = (key, value)\n",
        "        return\n",
        "    self.table[index].append((key, value))\n",
        "\n",
        "  def search(self, key):\n",
        "    index = self.hash_function(key)\n",
        "    for k, v in self.table[index]:\n",
        "      if k == key:\n",
        "        return v\n",
        "    return None\n",
        "\n",
        "# Penggunaan\n",
        "ht = ChainingHashTable(5)\n",
        "ht.insert(\"apel\", 100)\n",
        "ht.insert(\"pisang\", 200)\n",
        "ht.insert(\"melon\", 300)\n",
        "\n",
        "print(\"nilai untuk 'apel' adalah:\", ht.search(\"apel\"))\n",
        "print(\"nilai untuk 'melon' adalah:\", ht.search(\"melon\"))"
      ],
      "metadata": {
        "colab": {
          "base_uri": "https://localhost:8080/"
        },
        "id": "QaZRfJj8L5H-",
        "outputId": "c3d1eeb1-ce90-459e-c986-9b7df0539aa0"
      },
      "execution_count": 10,
      "outputs": [
        {
          "output_type": "stream",
          "name": "stdout",
          "text": [
            "nilai untuk 'apel' adalah: 100\n",
            "nilai untuk 'melon' adalah: 300\n"
          ]
        }
      ]
    },
    {
      "cell_type": "markdown",
      "source": [
        "# Latihan/Tugas"
      ],
      "metadata": {
        "id": "TGtl526ZNGxk"
      }
    },
    {
      "cell_type": "markdown",
      "source": [
        "## 1. Linear probing"
      ],
      "metadata": {
        "id": "fuYCKSq0Pl3l"
      }
    },
    {
      "cell_type": "code",
      "source": [
        "class LinearProbingHashTable:\n",
        "    def __init__(self, size):\n",
        "        self.size = size\n",
        "        self.table = [None] * size\n",
        "\n",
        "    def hash_function(self, key):\n",
        "        return hash(key) % self.size\n",
        "\n",
        "    def insert(self, key, value):\n",
        "        index = self.hash_function(key)\n",
        "        while self.table[index] is not None:\n",
        "            index = (index + 1) % self.size\n",
        "        self.table[index] = (key, value)\n",
        "\n",
        "    def __str__(self):\n",
        "        return str(self.table)\n",
        "\n",
        "# Membuat objek LinearProbingHashTable dengan ukuran tabel 5\n",
        "hash_table = LinearProbingHashTable(5)\n",
        "\n",
        "# Memasukkan pasangan key-value\n",
        "hash_table.insert(\"A\", 10)\n",
        "hash_table.insert(\"B\", 20)\n",
        "hash_table.insert(\"C\", 30)\n",
        "hash_table.insert(\"D\", 40)\n",
        "hash_table.insert(\"E\", 50)\n",
        "\n",
        "# Mencetak isi array self.table setelah semua data dimasukkan\n",
        "print(hash_table)"
      ],
      "metadata": {
        "colab": {
          "base_uri": "https://localhost:8080/"
        },
        "id": "cAIpY8CoN5cU",
        "outputId": "8d90da17-42d0-4297-e807-3478413db535"
      },
      "execution_count": 11,
      "outputs": [
        {
          "output_type": "stream",
          "name": "stdout",
          "text": [
            "[('E', 50), ('A', 10), ('B', 20), ('C', 30), ('D', 40)]\n"
          ]
        }
      ]
    },
    {
      "cell_type": "markdown",
      "source": [
        "## 2. Chaining"
      ],
      "metadata": {
        "id": "0JI60sKCP8sy"
      }
    },
    {
      "cell_type": "code",
      "source": [
        "class ChainingHashTable:\n",
        "    def __init__(self, size):\n",
        "        self.size = size\n",
        "        self.table = [[] for _ in range(size)]\n",
        "\n",
        "    def hash_function(self, key):\n",
        "        return hash(key) % self.size\n",
        "\n",
        "    def insert(self, key, value):\n",
        "        index = self.hash_function(key)\n",
        "\n",
        "        for i, (k, v) in enumerate(self.table[index]):\n",
        "            if k == key:\n",
        "                self.table[index][i] = (key, value)\n",
        "                return\n",
        "        self.table[index].append((key, value))\n",
        "\n",
        "    def __str__(self):\n",
        "        result = \"\"\n",
        "        for i, slot in enumerate(self.table):\n",
        "            result += f\"Slot {i}: {slot}\\n\"\n",
        "        return result\n",
        "\n",
        "# Membuat objek ChainingHashTable dengan ukuran tabel 3\n",
        "hash_table = ChainingHashTable(3)\n",
        "\n",
        "# Memasukkan pasangan key-value\n",
        "hash_table.insert(\"apel\", 100)\n",
        "hash_table.insert(\"melon\", 200)\n",
        "hash_table.insert(\"lemon\", 300)\n",
        "hash_table.insert(\"pisang\", 400)\n",
        "\n",
        "# Mencetak isi tabel dan menampilkan semua data pada setiap slot\n",
        "print(\"Isi tabel hash dengan chaining:\")\n",
        "print(hash_table)"
      ],
      "metadata": {
        "colab": {
          "base_uri": "https://localhost:8080/"
        },
        "id": "cNZjVRxpQAsC",
        "outputId": "7804547f-99da-4454-f522-676b2e92255c"
      },
      "execution_count": 15,
      "outputs": [
        {
          "output_type": "stream",
          "name": "stdout",
          "text": [
            "Isi tabel hash dengan chaining:\n",
            "Slot 0: [('apel', 100)]\n",
            "Slot 1: [('melon', 200), ('lemon', 300)]\n",
            "Slot 2: [('pisang', 400)]\n",
            "\n"
          ]
        }
      ]
    }
  ]
}