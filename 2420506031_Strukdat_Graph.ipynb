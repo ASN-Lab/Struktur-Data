{
  "nbformat": 4,
  "nbformat_minor": 0,
  "metadata": {
    "colab": {
      "provenance": [],
      "authorship_tag": "ABX9TyM2fZp+GLOKuBsh4sz0oPnY",
      "include_colab_link": true
    },
    "kernelspec": {
      "name": "python3",
      "display_name": "Python 3"
    },
    "language_info": {
      "name": "python"
    }
  },
  "cells": [
    {
      "cell_type": "markdown",
      "metadata": {
        "id": "view-in-github",
        "colab_type": "text"
      },
      "source": [
        "<a href=\"https://colab.research.google.com/github/ASN-Lab/Struktur-Data/blob/main/2420506031_Strukdat_Graph.ipynb\" target=\"_parent\"><img src=\"https://colab.research.google.com/assets/colab-badge.svg\" alt=\"Open In Colab\"/></a>"
      ]
    },
    {
      "cell_type": "markdown",
      "source": [
        "# Playground"
      ],
      "metadata": {
        "id": "8iarJ3m9W4ZB"
      }
    },
    {
      "cell_type": "markdown",
      "source": [
        "## Graf dengan Adjacency List"
      ],
      "metadata": {
        "id": "8MrVQ_VIXljV"
      }
    },
    {
      "cell_type": "code",
      "execution_count": null,
      "metadata": {
        "colab": {
          "base_uri": "https://localhost:8080/"
        },
        "id": "aHLRwIIsScJP",
        "outputId": "9510c63e-83ba-4f26-d2ba-a38e4d4a2ecb"
      },
      "outputs": [
        {
          "output_type": "stream",
          "name": "stdout",
          "text": [
            "A -> ['B', 'C'],\n",
            "B -> ['A', 'D', 'E'],\n",
            "C -> ['A', 'F'],\n",
            "D -> ['B'],\n",
            "E -> ['B', 'F'],\n",
            "F -> ['C', 'E'],\n"
          ]
        }
      ],
      "source": [
        "# Membuat graf tak berarah menggunakan adjacency list\n",
        "graph = {\n",
        "    'A': ['B', 'C'],\n",
        "    'B': ['A', 'D', 'E'],\n",
        "    'C': ['A', 'F'],\n",
        "    'D': ['B'],\n",
        "    'E': ['B', 'F'],\n",
        "    'F': ['C', 'E']\n",
        "}\n",
        "\n",
        "# Menampilkan graf\n",
        "def print_graph(graf):\n",
        "    for node in graf:\n",
        "        print(f\"{node} -> {graf[node]},\")\n",
        "\n",
        "print_graph(graph)"
      ]
    },
    {
      "cell_type": "markdown",
      "source": [
        "## Traversal Graf menggunakan BFS"
      ],
      "metadata": {
        "id": "vOVaOhhJZ5_F"
      }
    },
    {
      "cell_type": "code",
      "source": [
        "from collections import deque\n",
        "\n",
        "def bfs(graph, start):\n",
        "    visited = set()\n",
        "    queue = deque([start])\n",
        "    visited.add(start)\n",
        "\n",
        "    while queue:\n",
        "        vertex = queue.popleft()\n",
        "        if vertex not in visited:\n",
        "          print(vertex, end=\" \")\n",
        "          visited.add(vertex)\n",
        "          queue.extend([neighbor for neighbor in graph[vertex] if neighbor not in visited])\n",
        "\n",
        "# Contoh pemanggilan\n",
        "bfs(graph, 'A')"
      ],
      "metadata": {
        "id": "e5_qOSTFaAUG"
      },
      "execution_count": null,
      "outputs": []
    },
    {
      "cell_type": "markdown",
      "source": [
        "## Traversal Graf menggunakan DFS"
      ],
      "metadata": {
        "id": "hYfnpjY6bM19"
      }
    },
    {
      "cell_type": "code",
      "source": [
        "def dfs(graph, start, visited=None):\n",
        "  if visited is None:\n",
        "    visited = set ()\n",
        "\n",
        "  if start not in visited:\n",
        "    print(start, end=\" \")\n",
        "    visited.add(start)\n",
        "    for neighbor in graph[start]:\n",
        "      dfs(graph, neighbor, visited)\n",
        "\n",
        "# Contoh penggunaan\n",
        "dfs(graph, 'A')"
      ],
      "metadata": {
        "colab": {
          "base_uri": "https://localhost:8080/"
        },
        "id": "TRwdvtTXbRPl",
        "outputId": "3c06c022-63e3-49b3-bbc6-9b10da61da41"
      },
      "execution_count": null,
      "outputs": [
        {
          "output_type": "stream",
          "name": "stdout",
          "text": [
            "A B D E F C "
          ]
        }
      ]
    },
    {
      "cell_type": "markdown",
      "source": [
        "# Latihan Personal"
      ],
      "metadata": {
        "id": "w97xP6yEcENm"
      }
    },
    {
      "cell_type": "code",
      "source": [
        "def count_neighbors(graph):\n",
        "  result = {}\n",
        "  for node in graph:\n",
        "    result[node] = len(graph[node])\n",
        "  return result\n",
        "\n",
        "print(count_neighbors(graph))"
      ],
      "metadata": {
        "colab": {
          "base_uri": "https://localhost:8080/"
        },
        "id": "ye6usQMpcHOH",
        "outputId": "bf579fdc-72c1-42a4-c03c-eaec7bf0e62f"
      },
      "execution_count": null,
      "outputs": [
        {
          "output_type": "stream",
          "name": "stdout",
          "text": [
            "{'A': 2, 'B': 3, 'C': 2, 'D': 1, 'E': 2, 'F': 2}\n"
          ]
        }
      ]
    },
    {
      "cell_type": "markdown",
      "source": [
        "# Tugas"
      ],
      "metadata": {
        "id": "GWxYVghJcWKl"
      }
    },
    {
      "cell_type": "code",
      "source": [
        "# Membuat graf tak berarah menggunakan adjacency list\n",
        "graph = {\n",
        "    'A': ['B', 'C', 'D', 'E'],\n",
        "    'B': ['A', 'C', 'D'],\n",
        "    'C': ['A', 'B', 'D'],\n",
        "    'D': ['A', 'B', 'C'],\n",
        "    'E': ['A']\n",
        "}\n",
        "\n",
        "# Menampilkan graf\n",
        "def print_graph(graf):\n",
        "    for node in graf:\n",
        "        print(f\"{node} -> {graf[node]},\")\n",
        "\n",
        "print_graph(graph)"
      ],
      "metadata": {
        "colab": {
          "base_uri": "https://localhost:8080/"
        },
        "id": "z5mrrkXacZ3-",
        "outputId": "43757783-9541-44aa-b703-61f613bacf47"
      },
      "execution_count": null,
      "outputs": [
        {
          "output_type": "stream",
          "name": "stdout",
          "text": [
            "A -> ['B', 'C', 'D', 'E'],\n",
            "B -> ['A', 'C', 'D'],\n",
            "C -> ['A', 'B', 'D'],\n",
            "D -> ['A', 'B', 'C'],\n",
            "E -> ['A'],\n"
          ]
        }
      ]
    },
    {
      "cell_type": "code",
      "source": [
        "# Membuat graf tak berarah\n",
        "graf_A = {\n",
        "    'A': ['B', 'C'],\n",
        "    'B': ['A', 'D', 'E'],\n",
        "    'C': ['A', 'E'],\n",
        "    'D': ['B', 'E'],\n",
        "    'E': ['B', 'C', 'D']\n",
        "}\n",
        "\n",
        "# Fungsi untuk menampilkan graf\n",
        "def print_graph(graph):\n",
        "    for simpul in graph:\n",
        "        print(f\"{simpul}: {', '.join(graph[simpul])}\")\n",
        "\n",
        "# Fungsi BFS yang mengembalikan urutan kunjungan\n",
        "def bfs(graph, start):\n",
        "    dikunjungi = set()\n",
        "    antrean = [start]\n",
        "    urutan = []\n",
        "\n",
        "    while antrean:\n",
        "        simpul = antrean.pop(0)\n",
        "        if simpul not in dikunjungi:\n",
        "            dikunjungi.add(simpul)\n",
        "            urutan.append(simpul)\n",
        "            antrean.extend(neighbor for neighbor in graph[simpul] if neighbor not in dikunjungi)\n",
        "\n",
        "    return urutan\n",
        "\n",
        "# Fungsi DFS yang mengembalikan urutan kunjungan\n",
        "def dfs(graph, start, dikunjungi=None, urutan=None):\n",
        "    if dikunjungi is None:\n",
        "        dikunjungi = set()\n",
        "    if urutan is None:\n",
        "        urutan = []\n",
        "\n",
        "    dikunjungi.add(start)\n",
        "    urutan.append(start)\n",
        "\n",
        "    for neighbor in graph[start]:\n",
        "        if neighbor not in dikunjungi:\n",
        "            dfs(graph, neighbor, dikunjungi, urutan)\n",
        "\n",
        "    return urutan\n",
        "\n",
        "# Fungsi untuk menemukan jalur dari start ke end menggunakan DFS\n",
        "def find_path(graph, start, end):\n",
        "    dikunjungi = set()\n",
        "    jalur = []\n",
        "\n",
        "    def dfs_path(simpul):\n",
        "        if simpul == end:\n",
        "            return True\n",
        "        dikunjungi.add(simpul)\n",
        "        for neighbor in graph[simpul]:\n",
        "            if neighbor not in dikunjungi:\n",
        "                jalur.append(neighbor)\n",
        "                if dfs_path(neighbor):\n",
        "                    return True\n",
        "                jalur.pop()\n",
        "        return False\n",
        "\n",
        "    jalur.append(start)\n",
        "    if dfs_path(start):\n",
        "        return jalur\n",
        "    return None\n",
        "\n",
        "# Fungsi untuk menemukan jalur dari start ke end menggunakan BFS\n",
        "def find_path_bfs(graph, start, end):\n",
        "    dikunjungi = set()\n",
        "    antrean = [(start, [start])]\n",
        "\n",
        "    while antrean:\n",
        "        simpul, jalur = antrean.pop(0)\n",
        "        if simpul == end:\n",
        "            return jalur\n",
        "        dikunjungi.add(simpul)\n",
        "        for neighbor in graph[simpul]:\n",
        "            if neighbor not in dikunjungi:\n",
        "                antrean.append((neighbor, jalur + [neighbor]))\n",
        "\n",
        "    return None\n",
        "\n",
        "# Fungsi untuk memeriksa apakah graf terhubung\n",
        "def is_connected(graph):\n",
        "    dikunjungi = set()\n",
        "    start_simpul = next(iter(graph))\n",
        "    dfs(graph, start_simpul, dikunjungi)\n",
        "    return len(dikunjungi) == len(graph)\n",
        "\n",
        "# Menampilkan graf\n",
        "print(\"Graf:\")\n",
        "print_graph(graf_A)\n",
        "\n",
        "# Menggunakan BFS dan DFS untuk Traversal\n",
        "print(\"\\nTraversal Graf:\")\n",
        "bfs_urutan = bfs(graf_A, 'A')\n",
        "dfs_urutan = dfs(graf_A, 'A')\n",
        "\n",
        "print(\"-Urutan BFS:\", bfs_urutan)\n",
        "print(\"-Urutan DFS:\", dfs_urutan)\n",
        "\n",
        "# Mencari jalur dari A ke E menggunakan DFS dan BFS\n",
        "print(\"\\nPencarian jalur titik A ke E dari BFS & DFS:\")\n",
        "\n",
        "jalur_dfs = find_path(graf_A, 'A', 'E') # DFS\n",
        "print(\"-DFS:\", jalur_dfs)\n",
        "\n",
        "jalur_bfs = find_path_bfs(graf_A, 'A', 'E') # BFS\n",
        "print(\"-BFS:\", jalur_bfs)\n",
        "\n",
        "# Memeriksa apakah graf terhubung\n",
        "terhubung = is_connected(graf_A)\n",
        "print(\"\\nApakah graf terhubung?\", terhubung)"
      ],
      "metadata": {
        "colab": {
          "base_uri": "https://localhost:8080/"
        },
        "id": "V7595-dkdJcq",
        "outputId": "b47c049a-f832-4015-e40b-36536ce5e6cc"
      },
      "execution_count": 9,
      "outputs": [
        {
          "output_type": "stream",
          "name": "stdout",
          "text": [
            "Graf:\n",
            "A: B, C\n",
            "B: A, D, E\n",
            "C: A, E\n",
            "D: B, E\n",
            "E: B, C, D\n",
            "\n",
            "Traversal Graf:\n",
            "-Urutan BFS: ['A', 'B', 'C', 'D', 'E']\n",
            "-Urutan DFS: ['A', 'B', 'D', 'E', 'C']\n",
            "\n",
            "Pencarian jalur titik A ke E dari BFS & DFS:\n",
            "-DFS: ['A', 'B', 'D', 'E']\n",
            "-BFS: ['A', 'B', 'E']\n",
            "\n",
            "Apakah graf terhubung? True\n"
          ]
        }
      ]
    }
  ]
}