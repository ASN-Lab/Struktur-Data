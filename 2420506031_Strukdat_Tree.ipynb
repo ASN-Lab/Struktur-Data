{
  "nbformat": 4,
  "nbformat_minor": 0,
  "metadata": {
    "colab": {
      "provenance": [],
      "authorship_tag": "ABX9TyO53jxQ+m3dB+heNH/2xRcd",
      "include_colab_link": true
    },
    "kernelspec": {
      "name": "python3",
      "display_name": "Python 3"
    },
    "language_info": {
      "name": "python"
    }
  },
  "cells": [
    {
      "cell_type": "markdown",
      "metadata": {
        "id": "view-in-github",
        "colab_type": "text"
      },
      "source": [
        "<a href=\"https://colab.research.google.com/github/ASN-Lab/Struktur-Data/blob/main/2420506031_Strukdat_Tree.ipynb\" target=\"_parent\"><img src=\"https://colab.research.google.com/assets/colab-badge.svg\" alt=\"Open In Colab\"/></a>"
      ]
    },
    {
      "cell_type": "markdown",
      "source": [
        "# Playground"
      ],
      "metadata": {
        "id": "bn7kxTtlNvZ9"
      }
    },
    {
      "cell_type": "code",
      "execution_count": null,
      "metadata": {
        "colab": {
          "base_uri": "https://localhost:8080/"
        },
        "id": "12dz_OJ_No_M",
        "outputId": "4b9306ad-957c-4f77-e232-e724509369c5"
      },
      "outputs": [
        {
          "output_type": "stream",
          "name": "stdout",
          "text": [
            "Hasil inorder transversal dari Binary tree:\n",
            "42513\n",
            "\n",
            "Inorder Transveersal:\n",
            "1020307090100\n",
            "\n",
            "Preorder Transversal:\n",
            "1070302010090\n",
            "\n",
            "Postorder Transversal:\n",
            "2030901007010\n",
            "\n",
            "Nilai 70 ditemukan dalam tree\n",
            "\n",
            "25 tidak ditemukan.\n"
          ]
        }
      ],
      "source": [
        "class Node:\n",
        "  def __init__(self, data):\n",
        "    self.data = data\n",
        "    self.left = None\n",
        "    self.right = None\n",
        "\n",
        "# Binary Tree(Manual)\n",
        "root = Node(1)\n",
        "root.left = Node(2)\n",
        "root.right = Node(3)\n",
        "root.left.left = Node(4)\n",
        "root.left.right = Node(5)\n",
        "\n",
        "# Inorder transversal\n",
        "def inorder(node):\n",
        "  if node:\n",
        "    inorder(node.left)\n",
        "    print(node.data, end='')\n",
        "    inorder(node.right)\n",
        "\n",
        "print(\"Hasil inorder transversal dari Binary tree:\")\n",
        "inorder(root)\n",
        "\n",
        "# Binaey search tree\n",
        "class BinarySearchTree:\n",
        "  def __init__(self):\n",
        "    self.root = None\n",
        "  def insert(self, root, data):\n",
        "    if root is None:\n",
        "      return Node(data)\n",
        "    if data < root.data:\n",
        "      root.left = self.insert(root.left, data)\n",
        "    else:\n",
        "      root.right = self.insert(root.right, data)\n",
        "    return root\n",
        "\n",
        "bst = BinarySearchTree()\n",
        "root = None\n",
        "data_list = [10, 70, 30, 20, 100, 90]\n",
        "for value in data_list:\n",
        "  root = bst.insert(root, value)\n",
        "\n",
        "# Transversal BST\n",
        "def inorder(node):\n",
        "  if node:\n",
        "    inorder(node.left)\n",
        "    print(node.data, end='')\n",
        "    inorder(node.right)\n",
        "\n",
        "def preorder(node):\n",
        "  if node:\n",
        "    print(node.data, end='')\n",
        "    preorder(node.left)\n",
        "    preorder(node.right)\n",
        "\n",
        "def postorder(node):\n",
        "  if node:\n",
        "    postorder(node.left)\n",
        "    postorder(node.right)\n",
        "    print(node.data, end='')\n",
        "\n",
        "print(\"\\n\\nInorder Transveersal:\")\n",
        "inorder(root)\n",
        "print(\"\\n\\nPreorder Transversal:\")\n",
        "preorder(root)\n",
        "print(\"\\n\\nPostorder Transversal:\")\n",
        "postorder(root)\n",
        "\n",
        "# Search data BST\n",
        "def search(node, key):\n",
        "  if node is None or node.data == key:\n",
        "    return node\n",
        "  if key < node.data:\n",
        "    return search(node.left, key)\n",
        "  return search(node.right, key)\n",
        "\n",
        "# Tes pencarian\n",
        "key = 70\n",
        "result = search(root, key)\n",
        "if result:\n",
        "  print(f\"\\n\\nNilai {key} ditemukan dalam tree\")\n",
        "else:\n",
        "  print(f\"\\n\\nNilai {key} tidak ditemukan\")\n",
        "\n",
        "key = 25\n",
        "result = search(root, key)\n",
        "if result:\n",
        "  print (f\"\\n\\n{key} ditemukan dalam tree.\")\n",
        "else:\n",
        "  print (f\"\\n{key} tidak ditemukan.\")"
      ]
    },
    {
      "cell_type": "markdown",
      "source": [
        "## Binary Tree"
      ],
      "metadata": {
        "id": "1djb8g4kh9qH"
      }
    },
    {
      "cell_type": "code",
      "source": [
        "def __init__(self, value):\n",
        "  self.value = value\n",
        "  self.left = None\n",
        "  self.right = None\n",
        "\n",
        "class BinaryTree:\n",
        "    def __init__(self):\n",
        "        self.root = None"
      ],
      "metadata": {
        "id": "_VzZM5_ChfKS"
      },
      "execution_count": 4,
      "outputs": []
    },
    {
      "cell_type": "markdown",
      "source": [
        "## Binary Search Tree"
      ],
      "metadata": {
        "id": "dEHBcGB6iEhS"
      }
    },
    {
      "cell_type": "code",
      "source": [
        "class BSTNode:\n",
        "    def __init__(self, value):\n",
        "        self.value = value\n",
        "        self.left = None\n",
        "        self.right = None\n",
        "\n",
        "class BinarySearchTree:\n",
        "    def insert(self, root, value):\n",
        "        if root is None:\n",
        "            return BSTNode(value)\n",
        "        else:\n",
        "            if value < root.value:\n",
        "                root.left = self.insert(root.left, value)\n",
        "            else:\n",
        "                root.right = self.insert(root.right, value)\n",
        "        return root"
      ],
      "metadata": {
        "id": "SuIFnaIyiLkc"
      },
      "execution_count": 5,
      "outputs": []
    },
    {
      "cell_type": "markdown",
      "source": [
        "## AVL Tree"
      ],
      "metadata": {
        "id": "hIQQTkG63uJL"
      }
    },
    {
      "cell_type": "code",
      "source": [
        "class AVLNode:\n",
        "    def __init__(self, value):\n",
        "        self.value = value\n",
        "        self.left = None\n",
        "        self.right = None\n",
        "        self.height = 1"
      ],
      "metadata": {
        "id": "P5JDQlTf3x2k"
      },
      "execution_count": 6,
      "outputs": []
    },
    {
      "cell_type": "markdown",
      "source": [
        "## Red-Black Tree"
      ],
      "metadata": {
        "id": "Cl2iJBR54KUR"
      }
    },
    {
      "cell_type": "code",
      "source": [
        "class RedBlackNode:\n",
        "    def __init__(self, value):\n",
        "        self.value = value\n",
        "        self.left = None\n",
        "        self.right = None\n",
        "        self.color = 'red'"
      ],
      "metadata": {
        "id": "Hsc9eOBt4N__"
      },
      "execution_count": 7,
      "outputs": []
    },
    {
      "cell_type": "markdown",
      "source": [
        "# Tugas\n",
        "### program Binary Search Tree\n",
        "\n",
        "Program membentuk BST secara otomatis dari data numerik yang unik"
      ],
      "metadata": {
        "id": "P9TgKghRZ5Oi"
      }
    },
    {
      "cell_type": "code",
      "source": [
        "class Node:\n",
        "    # Kelas untuk merepresentasikan node dalam BST\n",
        "    def __init__(self, key):\n",
        "        self.left = None  # Node anak kiri\n",
        "        self.right = None  # Node anak kanan\n",
        "        self.val = key  # Nilai dari node\n",
        "\n",
        "class BST:\n",
        "    # Kelas untuk merepresentasikan Binary Search Tree\n",
        "    def __init__(self):\n",
        "        self.root = None  # Root dari BST\n",
        "\n",
        "    def insert(self, key):\n",
        "        #Fungsi untuk menyisipkan nilai ke dalam BST\n",
        "        if self.root is None:\n",
        "            self.root = Node(key)  # Jika tree kosong, buat root baru\n",
        "        else:\n",
        "            self._insert_rec(self.root, key)  # Panggil fungsi rekursif untuk menyisipkan\n",
        "\n",
        "    def _insert_rec(self, node, key):\n",
        "        #Fungsi rekursif untuk menyisipkan nilai\n",
        "        if key < node.val:  # Jika nilai lebih kecil, pergi ke kiri\n",
        "            if node.left is None:\n",
        "                node.left = Node(key)  # Buat node baru jika tidak ada\n",
        "            else:\n",
        "                self._insert_rec(node.left, key)  # Rekursi ke anak kiri\n",
        "        else:  # Jika nilai lebih besar atau sama, pergi ke kanan\n",
        "            if node.right is None:\n",
        "                node.right = Node(key)  # Buat node baru jika tidak ada\n",
        "            else:\n",
        "                self._insert_rec(node.right, key)  # Rekursi ke anak kanan\n",
        "\n",
        "    def inorder(self, node):\n",
        "        #Fungsi untuk traversal inorder\n",
        "        return self.inorder(node.left) + [node.val] + self.inorder(node.right) if node else []\n",
        "\n",
        "    def preorder(self, node):\n",
        "        #Fungsi untuk traversal preorder\n",
        "        return [node.val] + self.preorder(node.left) + self.preorder(node.right) if node else []\n",
        "\n",
        "    def postorder(self, node):\n",
        "        #Fungsi untuk traversal postorder\n",
        "        return self.postorder(node.left) + self.postorder(node.right) + [node.val] if node else []\n",
        "\n",
        "    def search(self, key):\n",
        "        #Fungsi untuk mencari nilai dalam BST\n",
        "        return self._search_rec(self.root, key)\n",
        "\n",
        "    def _search_rec(self, node, key):\n",
        "        #Fungsi rekursif untuk mencari nilai.#\n",
        "        if node is None or node.val == key:  # Jika node kosong atau nilai ditemukan\n",
        "            return node\n",
        "        if key < node.val:  # Jika nilai lebih kecil, cari di kiri\n",
        "            return self._search_rec(node.left, key)\n",
        "        return self._search_rec(node.right, key)  # Jika nilai lebih besar, cari di kanan\n",
        "\n",
        "def get_unique_numbers():    #    Fungsi untuk meminta user memasukkan 7 angka unik sesuai\n",
        "    numbers = set()  # Gunakan set untuk memastikan unik\n",
        "    print(\"Masukkan 7 angka unik sesuai ketentuan berikut:\")\n",
        "\n",
        "    # 3 digit terakhir NPM\n",
        "    while True:\n",
        "        try:\n",
        "            npm_3digits = int(input(\"Masukkan 3 digit terakhir NPM (contoh 123): \"))\n",
        "            if 0 <= npm_3digits <= 999 and npm_3digits not in numbers:\n",
        "                numbers.add(npm_3digits)\n",
        "                break\n",
        "            else:\n",
        "                print(\"Harus berupa angka 0-999 dan belum dimasukkan sebelumnya.\")\n",
        "        except ValueError:\n",
        "            print(\"Input harus angka.\")\n",
        "\n",
        "    # Tanggal lahir DD, sebuah angka 1-31\n",
        "    while True:\n",
        "        try:\n",
        "            dd = int(input(\"Masukkan tanggal lahir (DD, 1-31): \"))\n",
        "            if 1 <= dd <= 31 and dd not in numbers:\n",
        "                numbers.add(dd)\n",
        "                break\n",
        "            else:\n",
        "                print(\"Tanggal tidak valid atau sudah dimasukkan.\")\n",
        "        except ValueError:\n",
        "            print(\"Input harus angka.\")\n",
        "\n",
        "    # Bulan lahir MM, sebuah angka 1-12\n",
        "    while True:\n",
        "        try:\n",
        "            mm = int(input(\"Masukkan bulan lahir (MM, 1-12): \"))\n",
        "            if 1 <= mm <= 12 and mm not in numbers:\n",
        "                numbers.add(mm)\n",
        "                break\n",
        "            else:\n",
        "                print(\"Bulan tidak valid atau sudah dimasukkan.\")\n",
        "        except ValueError:\n",
        "            print(\"Input harus angka.\")\n",
        "\n",
        "    # ASCII huruf pertama nama depan\n",
        "    while True:\n",
        "        first_char = input(\"Masukkan huruf pertama nama depan: \")\n",
        "        if len(first_char) == 1:\n",
        "            ascii1 = ord(first_char)\n",
        "            if ascii1 not in numbers:\n",
        "                numbers.add(ascii1)\n",
        "                break\n",
        "            else:\n",
        "                print(\"Nilai ASCII sudah dimasukkan.\")\n",
        "        else:\n",
        "            print(\"Masukkan 1 karakter huruf.\")\n",
        "\n",
        "    # ASCII huruf kedua nama depan\n",
        "    while True:\n",
        "        second_char = input(\"Masukkan huruf kedua nama depan: \")\n",
        "        if len(second_char) == 1:\n",
        "            ascii2 = ord(second_char)\n",
        "            if ascii2 not in numbers:\n",
        "                numbers.add(ascii2)\n",
        "                break\n",
        "            else:\n",
        "                print(\"Nilai ASCII sudah dimasukkan.\")\n",
        "        else:\n",
        "            print(\"Masukkan 1 karakter huruf.\")\n",
        "\n",
        "    # 2 angka bebas\n",
        "    while len(numbers) < 7:\n",
        "        try:\n",
        "            free_num = int(input(f\"Masukkan angka bebas unik ke-{len(numbers)-4} (angka belum dimasukkan): \"))\n",
        "            if free_num not in numbers:\n",
        "                numbers.add(free_num)\n",
        "            else:\n",
        "                print(\"Angka sudah ada, masukkan angka berbeda.\")\n",
        "        except ValueError:\n",
        "            print(\"Input harus angka.\")\n",
        "\n",
        "    return list(numbers)\n",
        "\n",
        "def main():\n",
        "    # Ambil input angka unik dari user sesuai ketentuan\n",
        "    numbers = get_unique_numbers()\n",
        "\n",
        "    # Tampilkan list angka awal sebelum traversal\n",
        "    print(\"\\nList angka yang dimasukkan:\", numbers)\n",
        "\n",
        "    # Buat BST dan masukkan angka\n",
        "    bst = BST()\n",
        "    for num in numbers:\n",
        "        bst.insert(num)\n",
        "\n",
        "    # Tampilkan hasil traversal dengan rapi\n",
        "    print(\"\\nHasil Traversal BST:\")\n",
        "    print(\"Inorder Traversal  :\", bst.inorder(bst.root))\n",
        "    print(\"Preorder Traversal :\", bst.preorder(bst.root))\n",
        "    print(\"Postorder Traversal:\", bst.postorder(bst.root))\n",
        "\n",
        "    # Cari angka dengan dua digit terakhir NPM (ambil last 2 digit dari npm 3 digit)\n",
        "    npm_last_two = numbers[0] % 100  # Misal angka pertama adalah 3 digit NPM\n",
        "    print(f\"\\nMencari angka dua digit terakhir NPM: {npm_last_two}\")\n",
        "    node_found = bst.search(npm_last_two)\n",
        "    print(f\"Angka {npm_last_two} {'Ditemukan' if node_found else 'Tidak Ditemukan'} dalam BST.\")\n",
        "\n",
        "    # Loop pencarian berulang sampai user ketik 'keluar' atau 'exit'\n",
        "    while True:\n",
        "        user_input = input(\"\\nMasukkan angka untuk pencarian (ketik 'keluar' untuk berhenti): \").strip()\n",
        "        if user_input.lower() in ['keluar', 'exit']:\n",
        "            print(\"Program berhenti. Terima kasih!\")\n",
        "            break\n",
        "\n",
        "        try:\n",
        "            search_num = int(user_input)\n",
        "            result = bst.search(search_num)\n",
        "            print(f\"Angka {search_num} {'Ditemukan' if result else 'Tidak Ditemukan'} dalam BST.\")\n",
        "        except ValueError:\n",
        "            print(\"Input tidak valid, masukkan angka atau 'keluar' untuk keluar.\")\n",
        "\n",
        "if __name__ == \"__main__\":\n",
        "    main()"
      ],
      "metadata": {
        "colab": {
          "base_uri": "https://localhost:8080/"
        },
        "id": "4wQItBMsL-aa",
        "outputId": "eb86e4f5-fb6e-4aa9-f8d2-ae17a2405de7"
      },
      "execution_count": 8,
      "outputs": [
        {
          "output_type": "stream",
          "name": "stdout",
          "text": [
            "Masukkan 7 angka unik sesuai ketentuan berikut:\n",
            "Masukkan 3 digit terakhir NPM (contoh 123): 991\n",
            "Masukkan tanggal lahir (DD, 1-31): 13\n",
            "Masukkan bulan lahir (MM, 1-12): 9\n",
            "Masukkan huruf pertama nama depan: A\n",
            "Masukkan huruf kedua nama depan: N\n",
            "Masukkan angka bebas unik ke-1 (angka belum dimasukkan): 7\n",
            "Masukkan angka bebas unik ke-2 (angka belum dimasukkan): 89\n",
            "\n",
            "List angka yang dimasukkan: [65, 7, 9, 13, 78, 89, 991]\n",
            "\n",
            "Hasil Traversal BST:\n",
            "Inorder Traversal  : [7, 9, 13, 65, 78, 89, 991]\n",
            "Preorder Traversal : [65, 7, 9, 13, 78, 89, 991]\n",
            "Postorder Traversal: [13, 9, 7, 991, 89, 78, 65]\n",
            "\n",
            "Mencari angka dua digit terakhir NPM: 65\n",
            "Angka 65 Ditemukan dalam BST.\n",
            "\n",
            "Masukkan angka untuk pencarian (ketik 'keluar' untuk berhenti): 0\n",
            "Angka 0 Tidak Ditemukan dalam BST.\n",
            "\n",
            "Masukkan angka untuk pencarian (ketik 'keluar' untuk berhenti): 7\n",
            "Angka 7 Ditemukan dalam BST.\n",
            "\n",
            "Masukkan angka untuk pencarian (ketik 'keluar' untuk berhenti): keluar\n",
            "Program berhenti. Terima kasih!\n"
          ]
        }
      ]
    }
  ]
}