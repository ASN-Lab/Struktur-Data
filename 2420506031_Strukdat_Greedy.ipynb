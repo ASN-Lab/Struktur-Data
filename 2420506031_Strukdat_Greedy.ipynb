{
  "nbformat": 4,
  "nbformat_minor": 0,
  "metadata": {
    "colab": {
      "provenance": [],
      "authorship_tag": "ABX9TyO6mcva8trNIQd43jxftLHT",
      "include_colab_link": true
    },
    "kernelspec": {
      "name": "python3",
      "display_name": "Python 3"
    },
    "language_info": {
      "name": "python"
    }
  },
  "cells": [
    {
      "cell_type": "markdown",
      "metadata": {
        "id": "view-in-github",
        "colab_type": "text"
      },
      "source": [
        "<a href=\"https://colab.research.google.com/github/ASN-Lab/Struktur-Data/blob/main/2420506031_Strukdat_Greedy.ipynb\" target=\"_parent\"><img src=\"https://colab.research.google.com/assets/colab-badge.svg\" alt=\"Open In Colab\"/></a>"
      ]
    },
    {
      "cell_type": "markdown",
      "source": [
        "# Playground"
      ],
      "metadata": {
        "id": "WHiXGVJCSgWT"
      }
    },
    {
      "cell_type": "markdown",
      "source": [
        "## Case 1: Coin Change"
      ],
      "metadata": {
        "id": "cGTuwQQ1SuLa"
      }
    },
    {
      "cell_type": "code",
      "execution_count": null,
      "metadata": {
        "colab": {
          "base_uri": "https://localhost:8080/"
        },
        "id": "qBAqWKlwRw5y",
        "outputId": "b3e98af8-5bf8-43e5-90c0-9b19efd29866"
      },
      "outputs": [
        {
          "output_type": "stream",
          "name": "stdout",
          "text": [
            "Coin yang digunakan: [25, 25, 5, 1, 1]\n"
          ]
        }
      ],
      "source": [
        "def coin_change_greedy(amount, coins):\n",
        "  coins.sort(reverse=True)\n",
        "  result = []\n",
        "  for coin in coins:\n",
        "    while amount >= coin:\n",
        "      amount -= coin\n",
        "      result.append(coin)\n",
        "  return result\n",
        "\n",
        "# Penggunaan\n",
        "amount = 57\n",
        "coins = [25, 10, 5, 1]\n",
        "change = coin_change_greedy(amount, coins)\n",
        "print(\"Coin yang digunakan:\", change)"
      ]
    },
    {
      "cell_type": "markdown",
      "source": [
        "## Fractional Knapsack"
      ],
      "metadata": {
        "id": "gYc2YTZoUEQ7"
      }
    },
    {
      "cell_type": "code",
      "source": [
        "def fractional_knapsack(items, capacity):\n",
        "  # items = list of tuples (value, weight)\n",
        "  items = sorted(items, key=lambda x: x[0] / x[1], reverse=True)\n",
        "  total_value = 0.0\n",
        "  for value, weight in items:\n",
        "    if capacity >= weight:\n",
        "      capacity -= weight\n",
        "      total_value += value\n",
        "    else:\n",
        "      total_value += value * (capacity / weight)\n",
        "      break\n",
        "  return total_value\n",
        "\n",
        "# Penggunaan\n",
        "items = [(60, 10), (100, 20), (120, 30)] # (nilai, berat)\n",
        "capacity = 50\n",
        "max_value = fractional_knapsack(items, capacity)\n",
        "print(\"Nilai maksimum yang dapat dibawa:\", max_value)"
      ],
      "metadata": {
        "colab": {
          "base_uri": "https://localhost:8080/"
        },
        "id": "wGkzHw2YUDeV",
        "outputId": "a337172d-acef-4ec3-89da-dba56da92d64"
      },
      "execution_count": null,
      "outputs": [
        {
          "output_type": "stream",
          "name": "stdout",
          "text": [
            "Nilai maksimum yang dapat dibawa: 240.0\n"
          ]
        }
      ]
    },
    {
      "cell_type": "markdown",
      "source": [
        "## Minimum Spanning Tree: Prim dan Kruskal"
      ],
      "metadata": {
        "id": "Cv4aF2M1Z2zp"
      }
    },
    {
      "cell_type": "markdown",
      "source": [
        "Prim"
      ],
      "metadata": {
        "id": "lRjsaowueiJb"
      }
    },
    {
      "cell_type": "code",
      "source": [
        "import heapq\n",
        "\n",
        "# Prim\n",
        "def prim_mst(graph, start):\n",
        "  visited = set()\n",
        "  min_heap = [(0, start)]\n",
        "  total_weight = 0\n",
        "\n",
        "  while min_heap:\n",
        "    weight, node = heapq.heappop(min_heap)\n",
        "    if node in visited:\n",
        "      continue\n",
        "    visited.add(node)\n",
        "    total_weight += weight\n",
        "    for neighbor, edge_weight in graph[node]:\n",
        "      if neighbor not in visited:\n",
        "        heapq.heappush(min_heap, (edge_weight, neighbor))\n",
        "\n",
        "  return total_weight\n",
        "\n",
        "# Penggunaan\n",
        "graph = { # graph untuk Prim\n",
        "    'A': [('B', 2), ('C', 3)],\n",
        "    'B': [('A', 2), ('C', 1), ('D', 1)],\n",
        "    'C': [('A', 3), ('B', 1), ('D', 4)],\n",
        "    'D': [('B', 1), ('C', 4)]\n",
        "}\n",
        "\n",
        "print(\"Total bobot MST (Prim):\", prim_mst(graph, 'A')) # Menampilkan hasil fungsi Prim"
      ],
      "metadata": {
        "colab": {
          "base_uri": "https://localhost:8080/"
        },
        "id": "HQ1oUO5kZ2KE",
        "outputId": "ecda78c7-3ac3-41c7-840b-a002f73701de"
      },
      "execution_count": null,
      "outputs": [
        {
          "output_type": "stream",
          "name": "stdout",
          "text": [
            "Total bobot MST (Prim): 4\n"
          ]
        }
      ]
    },
    {
      "cell_type": "markdown",
      "source": [
        "Kruskal"
      ],
      "metadata": {
        "id": "9qW7Rpk6elNA"
      }
    },
    {
      "cell_type": "code",
      "source": [
        "# Kruskal\n",
        "def kruskal_mst(edges, n_nodes):\n",
        "  parent = {i: i for i in range(n_nodes)}\n",
        "\n",
        "  def find(x):\n",
        "    while parent [x] != x:\n",
        "      x = parent[x]\n",
        "    return x\n",
        "\n",
        "  def union(x, y):\n",
        "    root_x = find(x)\n",
        "    root_y = find(y)\n",
        "    if root_x != root_y:\n",
        "      parent[root_y] = root_x\n",
        "      return True\n",
        "    return False\n",
        "\n",
        "  edges.sort(key=lambda x: x[2])\n",
        "  total_weight = 0\n",
        "  for u, v, weight in edges:\n",
        "    if union(u, v):\n",
        "      total_weight += weight\n",
        "  return total_weight\n",
        "\n",
        "edges = [(0, 1, 2), (0, 2, 3), (1, 2, 1), (1, 3, 1), (2, 3, 4)]\n",
        "\n",
        "print(\"Total bobot MST (Kruskal):\", kruskal_mst(edges, 4)) # Menampilkan hasil fungsi Kruskal"
      ],
      "metadata": {
        "colab": {
          "base_uri": "https://localhost:8080/"
        },
        "id": "ovH5wzndeSpD",
        "outputId": "d5e7c955-8d51-41ba-cf2a-b6f6f66f4c92"
      },
      "execution_count": null,
      "outputs": [
        {
          "output_type": "stream",
          "name": "stdout",
          "text": [
            "Total bobot MST (Kruskal): 4\n"
          ]
        }
      ]
    }
  ]
}